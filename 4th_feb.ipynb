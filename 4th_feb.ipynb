{
 "cells": [
  {
   "cell_type": "code",
   "execution_count": 21,
   "id": "06336853-928b-4ac5-a609-f9c9f381b9cf",
   "metadata": {},
   "outputs": [
    {
     "data": {
      "text/plain": [
       "\"Q1)Create a python program to sort the given list of tuples based on integer value using a  lambda function.  \\n[('Sachin Tendulkar', 34357), ('Ricky Ponting', 27483), ('Jack Kallis', 25534), ('Virat Kohli', 24936)] \""
      ]
     },
     "execution_count": 21,
     "metadata": {},
     "output_type": "execute_result"
    }
   ],
   "source": [
    "'''Q1)Create a python program to sort the given list of tuples based on integer value using a  lambda function.  \n",
    "[('Sachin Tendulkar', 34357), ('Ricky Ponting', 27483), ('Jack Kallis', 25534), ('Virat Kohli', 24936)] '''"
   ]
  },
  {
   "cell_type": "code",
   "execution_count": 10,
   "id": "76055738-2598-4216-9e36-23488d2a296b",
   "metadata": {},
   "outputs": [],
   "source": [
    "l1= [('Sachin Tendulkar', 34357), ('Ricky Ponting', 27483), ('Jack Kallis', 25534), ('Virat Kohli', 24936)] "
   ]
  },
  {
   "cell_type": "code",
   "execution_count": 19,
   "id": "165f49c7-cc62-4158-a161-cb7ae56c2982",
   "metadata": {},
   "outputs": [
    {
     "name": "stdout",
     "output_type": "stream",
     "text": [
      "[('Virat Kohli', 24936), ('Jack Kallis', 25534), ('Ricky Ponting', 27483), ('Sachin Tendulkar', 34357)]\n"
     ]
    }
   ],
   "source": [
    "sorted_list = sorted(l1, key = lambda x: x[1])\n",
    "print(sorted_list)"
   ]
  },
  {
   "cell_type": "code",
   "execution_count": 24,
   "id": "7e83b667-d9d8-4a4a-8952-d9dc0721fc9e",
   "metadata": {},
   "outputs": [
    {
     "data": {
      "text/plain": [
       "'Write a Python Program to find the squares of all the numbers in the given list of integers using  lambda and map functions. \\n[1, 2, 3, 4, 5, 6, 7, 8, 9, 10] \\n'"
      ]
     },
     "execution_count": 24,
     "metadata": {},
     "output_type": "execute_result"
    }
   ],
   "source": [
    "\"\"\"Write a Python Program to find the squares of all the numbers in the given list of integers using  lambda and map functions. \n",
    "[1, 2, 3, 4, 5, 6, 7, 8, 9, 10] \n",
    "\"\"\""
   ]
  },
  {
   "cell_type": "code",
   "execution_count": 25,
   "id": "32078719-fdd8-4d88-a9f6-3650fd265a9a",
   "metadata": {},
   "outputs": [],
   "source": [
    "numbers=[1, 2, 3, 4, 5, 6, 7, 8, 9, 10] "
   ]
  },
  {
   "cell_type": "code",
   "execution_count": 26,
   "id": "e196c5bf-3cf5-4352-8015-f163af5f471a",
   "metadata": {},
   "outputs": [
    {
     "data": {
      "text/plain": [
       "[1, 4, 9, 16, 25, 36, 49, 64, 81, 100]"
      ]
     },
     "execution_count": 26,
     "metadata": {},
     "output_type": "execute_result"
    }
   ],
   "source": [
    "list(map(lambda x: x**2,numbers))"
   ]
  },
  {
   "cell_type": "code",
   "execution_count": 45,
   "id": "894a481f-1b56-407c-8548-b17beabaed83",
   "metadata": {},
   "outputs": [
    {
     "data": {
      "text/plain": [
       "\"Write a python program to convert the given list of integers into a tuple of strings. Use map and  lambda functions \\nGiven String: [1, 2, 3, 4, 5, 6, 7, 8, 9, 10] \\nExpected output: ('1', '2', '3', '4', '5', '6', '7', '8', '9', '10')\""
      ]
     },
     "execution_count": 45,
     "metadata": {},
     "output_type": "execute_result"
    }
   ],
   "source": [
    "\"\"\"Write a python program to convert the given list of integers into a tuple of strings. Use map and  lambda functions \n",
    "Given String: [1, 2, 3, 4, 5, 6, 7, 8, 9, 10] \n",
    "Expected output: ('1', '2', '3', '4', '5', '6', '7', '8', '9', '10')\"\"\""
   ]
  },
  {
   "cell_type": "code",
   "execution_count": 39,
   "id": "6777ab02-25af-4179-8a54-5971c1b5f6d2",
   "metadata": {},
   "outputs": [],
   "source": [
    "Given_String=[1, 2, 3, 4, 5, 6, 7, 8, 9, 10] "
   ]
  },
  {
   "cell_type": "code",
   "execution_count": 40,
   "id": "80bcf0af-1336-4c87-9e64-6ca22962a0c3",
   "metadata": {},
   "outputs": [],
   "source": [
    "Expected_output=tuple(map(lambda x: str(x),Given_String))"
   ]
  },
  {
   "cell_type": "code",
   "execution_count": 43,
   "id": "3cca6020-ae84-4747-8c76-7ccaeb23ecdf",
   "metadata": {},
   "outputs": [
    {
     "data": {
      "text/plain": [
       "('1', '2', '3', '4', '5', '6', '7', '8', '9', '10')"
      ]
     },
     "execution_count": 43,
     "metadata": {},
     "output_type": "execute_result"
    }
   ],
   "source": [
    "Expected_output"
   ]
  },
  {
   "cell_type": "code",
   "execution_count": 44,
   "id": "8e75a4ce-a54f-4e0e-b449-7cb1c72200bd",
   "metadata": {},
   "outputs": [],
   "source": [
    "#  Q4.  Write a python program using reduce function to compute the product of a list containing numbers  from 1 to 25. \n"
   ]
  },
  {
   "cell_type": "code",
   "execution_count": 50,
   "id": "38c148b2-4eea-49e9-8dc0-b638bbf420ff",
   "metadata": {},
   "outputs": [],
   "source": [
    "from functools import reduce\n"
   ]
  },
  {
   "cell_type": "code",
   "execution_count": 54,
   "id": "21315d6f-b3f0-42b2-9eba-99068a28c8cb",
   "metadata": {},
   "outputs": [
    {
     "name": "stdout",
     "output_type": "stream",
     "text": [
      "15511210043330985984000000\n"
     ]
    }
   ],
   "source": [
    "#create the list of numbers\n",
    "numb=[x for x in range(1,26)]\n",
    "\n",
    "#compute the product\n",
    "\n",
    "product=reduce(lambda x,y: x*y,numb)\n",
    "\n",
    "print(product)\n",
    "\n"
   ]
  },
  {
   "cell_type": "code",
   "execution_count": 55,
   "id": "cc760697-26c6-4319-a000-2336d60a1143",
   "metadata": {},
   "outputs": [
    {
     "data": {
      "text/plain": [
       "'Write a python program to filter the numbers in a given list that are divisible by 2 and 3 using the  filter function. \\n[2, 3, 6, 9, 27, 60, 90, 120, 55, 46] '"
      ]
     },
     "execution_count": 55,
     "metadata": {},
     "output_type": "execute_result"
    }
   ],
   "source": [
    "'''Write a python program to filter the numbers in a given list that are divisible by 2 and 3 using the  filter function. \n",
    "[2, 3, 6, 9, 27, 60, 90, 120, 55, 46] '''\n"
   ]
  },
  {
   "cell_type": "code",
   "execution_count": 56,
   "id": "75f38a2f-c9de-46dc-8e5f-12380ad98737",
   "metadata": {},
   "outputs": [],
   "source": [
    "# create list\n",
    "list1=[2, 3, 6, 9, 27, 60, 90, 120, 55, 46]"
   ]
  },
  {
   "cell_type": "code",
   "execution_count": 65,
   "id": "9647e161-c25d-4f42-ae9b-9bcb056ccecf",
   "metadata": {},
   "outputs": [
    {
     "name": "stdout",
     "output_type": "stream",
     "text": [
      "[6, 60, 90, 120]\n"
     ]
    }
   ],
   "source": [
    "#list that are divisible by 2 and 3\n",
    "filter_data=list(filter(lambda x:x%2 == 0 and x%3 == 0 , list1))\n",
    "print(filter_data)"
   ]
  },
  {
   "cell_type": "code",
   "execution_count": 66,
   "id": "4cf1ef58-9eed-4ab1-a8b6-d02aec6c876f",
   "metadata": {},
   "outputs": [
    {
     "data": {
      "text/plain": [
       "\"\\nWrite a python program to find palindromes in the given list of strings using lambda and filter  function. \\n['python', 'php', 'aba', 'radar', 'level'] \\n\""
      ]
     },
     "execution_count": 66,
     "metadata": {},
     "output_type": "execute_result"
    }
   ],
   "source": [
    " '''\n",
    " Write a python program to find palindromes in the given list of strings using lambda and filter  function. \n",
    "['python', 'php', 'aba', 'radar', 'level'] \n",
    "'''\n"
   ]
  },
  {
   "cell_type": "code",
   "execution_count": 68,
   "id": "a2c7ae8b-bc76-4d38-bf52-cef3dc59c6b8",
   "metadata": {},
   "outputs": [],
   "source": [
    "list2=['python', 'php', 'aba', 'radar', 'level']"
   ]
  },
  {
   "cell_type": "code",
   "execution_count": 71,
   "id": "aed27bf9-0929-40f5-87c7-97d843e689cb",
   "metadata": {},
   "outputs": [
    {
     "name": "stdout",
     "output_type": "stream",
     "text": [
      "['php', 'aba', 'radar', 'level']\n"
     ]
    }
   ],
   "source": [
    "palindromes=list(filter(lambda x: x == x[::-1],list2 ))\n",
    "print(palindromes)"
   ]
  },
  {
   "cell_type": "code",
   "execution_count": null,
   "id": "786c9be7-f4f7-43a2-a592-1b0598f21c37",
   "metadata": {},
   "outputs": [],
   "source": []
  }
 ],
 "metadata": {
  "kernelspec": {
   "display_name": "Python 3 (ipykernel)",
   "language": "python",
   "name": "python3"
  },
  "language_info": {
   "codemirror_mode": {
    "name": "ipython",
    "version": 3
   },
   "file_extension": ".py",
   "mimetype": "text/x-python",
   "name": "python",
   "nbconvert_exporter": "python",
   "pygments_lexer": "ipython3",
   "version": "3.10.8"
  }
 },
 "nbformat": 4,
 "nbformat_minor": 5
}
